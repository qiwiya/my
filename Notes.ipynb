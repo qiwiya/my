{
 "cells": [
  {
   "cell_type": "markdown",
   "id": "ec3e423d",
   "metadata": {},
   "source": [
    "05.09.2023 \n",
    "* print\n",
    "* Int \n",
    "* Операции\n",
    "* bool\n",
    "* float\n",
    "* Операторы\n",
    "* Округление\n",
    "* библиотеки"
   ]
  },
  {
   "cell_type": "code",
   "execution_count": 1,
   "id": "c7bf16a3",
   "metadata": {},
   "outputs": [
    {
     "name": "stdout",
     "output_type": "stream",
     "text": [
      "Hello, world\n",
      "Hi\n"
     ]
    }
   ],
   "source": [
    "# функция print() выводит введенное значение\n",
    "print('Hello, world') \n",
    "# запись значения в переменную\n",
    "x='Hi'\n",
    "# вывод значения переменной\n",
    "print(x) \n",
    "\n",
    "# Jup зеленым подсвечивает имена которые используются в языке (например len())"
   ]
  },
  {
   "cell_type": "code",
   "execution_count": 2,
   "id": "ed864af8",
   "metadata": {},
   "outputs": [
    {
     "name": "stdout",
     "output_type": "stream",
     "text": [
      "<class 'str'>\n",
      "2\n"
     ]
    }
   ],
   "source": [
    "# Integer, Int целое число\n",
    "# функция Type() помогает определить тип\n",
    "print(type(x)) \n",
    "# Int всегда округляет вниз\n",
    "print(int(2.6))"
   ]
  },
  {
   "cell_type": "code",
   "execution_count": 3,
   "id": "a8f2e629",
   "metadata": {},
   "outputs": [
    {
     "name": "stdout",
     "output_type": "stream",
     "text": [
      "2.5\n",
      "2\n",
      "1\n",
      "25\n",
      "7\n",
      "7\n"
     ]
    }
   ],
   "source": [
    "# обычное деление /\n",
    "# целочисленное деление //\n",
    "# остаток от деления %\n",
    "# возведение в степень **\n",
    "a=5\n",
    "b=2\n",
    "print(a / b)\n",
    "print(a // b)\n",
    "print(a % b)\n",
    "print(a ** b)\n",
    "\n",
    "# Приведение данных функции в соответствии с именем типов данных\n",
    "print(a + int('2'))\n",
    "print(a + int(2.5))\n"
   ]
  },
  {
   "cell_type": "code",
   "execution_count": 4,
   "id": "b5d94fde",
   "metadata": {},
   "outputs": [
    {
     "name": "stdout",
     "output_type": "stream",
     "text": [
      "9\n",
      "1\n",
      "7\n",
      "17\n"
     ]
    }
   ],
   "source": [
    "# Задача1\n",
    "# Посчитать сумму цифр трехзначного числа\n",
    "\n",
    "b=179\n",
    "b3=b % 10\n",
    "b1=b // 100\n",
    "b2=b // 10 % 10\n",
    "\n",
    "\n",
    "print(b3)\n",
    "print(b1)\n",
    "print(b2)\n",
    "print(b1 + b2 + b3)"
   ]
  },
  {
   "cell_type": "code",
   "execution_count": 5,
   "id": "5f203805",
   "metadata": {},
   "outputs": [
    {
     "name": "stdout",
     "output_type": "stream",
     "text": [
      "7 4\n"
     ]
    }
   ],
   "source": [
    "# Задача2 \n",
    "# Дано число N. С начала суток прошло N минут. Определите, сколько часов и минут будут показывать электронные часы в этот момент.\n",
    "\n",
    "n = 1900\n",
    "print(n//60%24, n%24)"
   ]
  },
  {
   "cell_type": "code",
   "execution_count": 6,
   "id": "cca5d89e",
   "metadata": {},
   "outputs": [
    {
     "name": "stdout",
     "output_type": "stream",
     "text": [
      "<class 'bool'> <class 'bool'>\n",
      "False\n",
      "False\n",
      "True\n",
      "True\n",
      "True\n",
      "0\n",
      "1\n"
     ]
    }
   ],
   "source": [
    "# Булевые переменные\n",
    "\n",
    "print(type(True), type(False))\n",
    "\n",
    "# Преобразование чисел и строк в булевые переменные (все что угодно кроме пустоты это true)\n",
    "print(bool(0))\n",
    "print(bool(''))\n",
    "print(bool(1))\n",
    "print(bool(-1))\n",
    "print(bool('b'))\n",
    "\n",
    "# Преобразование int возможно в bool\n",
    "print(int(False))\n",
    "print(int(True))\n"
   ]
  },
  {
   "cell_type": "markdown",
   "id": "ba06427c",
   "metadata": {},
   "source": [
    "Простые операторы\n",
    "* == (равно)\n",
    "* != (не равно)\n",
    "* \\> \n",
    "* < \n",
    "* \\>= \n",
    "* <= \n",
    "* and\n",
    "* or\n",
    "* not"
   ]
  },
  {
   "cell_type": "code",
   "execution_count": 7,
   "id": "55b01ecc",
   "metadata": {},
   "outputs": [
    {
     "name": "stdout",
     "output_type": "stream",
     "text": [
      "False\n"
     ]
    }
   ],
   "source": [
    "# Задача3\n",
    "''' \n",
    " Вася уехал учиться по обмену на один семестр в Италию. \n",
    " Единственный магазин в городе открыт с 6 до 8 утра и с 16 до 17 вечера (включительно). \n",
    " Вася не мог попасть в магазин уже несколько дней и страдает от голода. Он может прийти в магазин в X часов. \n",
    " Если магазин открыт в X часов, то выведите True, а если закрыт - выведите False.\n",
    " В единственной строке входных данных вводится целое число X, число находится в пределах от 0 до 23\n",
    "'''\n",
    "xVasya = 15\n",
    "time1 = 6 <= xVasya <= 8\n",
    "time2 = 16 <= xVasya <= 17\n",
    "print(time1 or time2)"
   ]
  },
  {
   "cell_type": "code",
   "execution_count": 8,
   "id": "190f4ffd",
   "metadata": {},
   "outputs": [
    {
     "name": "stdout",
     "output_type": "stream",
     "text": [
      "0.30000000000000004\n",
      "False\n",
      "True\n",
      "4.9\n"
     ]
    }
   ],
   "source": [
    "# float десятичное число\n",
    "\n",
    "print(0.2 + 0.1)\n",
    "print(0.2 + 0.1 == 0.3)\n",
    "print(0.2 + 0.1 - 0.3 < 0.00001)\n",
    "\n",
    "print(2.5 + float('2.4'))\n"
   ]
  },
  {
   "cell_type": "code",
   "execution_count": 9,
   "id": "37c23478",
   "metadata": {},
   "outputs": [
    {
     "name": "stdout",
     "output_type": "stream",
     "text": [
      "3\n",
      "-2\n",
      "2\n",
      "-3\n"
     ]
    }
   ],
   "source": [
    "# библиотека math - доп. математические функции\n",
    "import math\n",
    "\n",
    "# функция ceil() округляет к ближайшему БОльшему числу (в потолок)\n",
    "print(math.ceil(2.6))\n",
    "print(math.ceil(-2.6))\n",
    "\n",
    "# функция floor() округляет к ближайшему МЕньшему числу (в пол)\n",
    "print(math.floor(2.6))\n",
    "print(math.floor(-2.6))\n",
    "\n",
    "# у функций могут быть необязательные аргументы, например\n",
    "# задать значение по умолчанию через необзяательный аргумент [base] у log()"
   ]
  },
  {
   "cell_type": "code",
   "execution_count": 10,
   "id": "abc17a69",
   "metadata": {},
   "outputs": [
    {
     "name": "stdout",
     "output_type": "stream",
     "text": [
      "2\n",
      "3\n",
      "2\n",
      "4\n"
     ]
    }
   ],
   "source": [
    "# функция round() округляет до ближайшего четного\n",
    "\n",
    "print(round(2.2))\n",
    "print(round(2.7))\n",
    "print(round(2.5)) # ближайшее четное 2\n",
    "print(round(3.5)) # ближайшее четное 4"
   ]
  },
  {
   "cell_type": "code",
   "execution_count": 11,
   "id": "57b195d4",
   "metadata": {},
   "outputs": [
    {
     "name": "stdout",
     "output_type": "stream",
     "text": [
      "5.0\n"
     ]
    }
   ],
   "source": [
    "# сокращение наименований бибилиотек\n",
    "\n",
    "import math as m\n",
    "\n",
    "print(m.sqrt(25))"
   ]
  },
  {
   "cell_type": "code",
   "execution_count": 12,
   "id": "c688cbe9",
   "metadata": {},
   "outputs": [
    {
     "name": "stdout",
     "output_type": "stream",
     "text": [
      "Requirement already satisfied: sklearn in c:\\users\\s.kipryushina\\appdata\\local\\anaconda3\\lib\\site-packages (0.0.post7)\n"
     ]
    }
   ],
   "source": [
    "# установка библиотек, которые не предустановлены\n",
    "!pip install sklearn"
   ]
  },
  {
   "cell_type": "markdown",
   "id": "6e76ea85",
   "metadata": {},
   "source": [
    "14.09.2023\n",
    "* string, text\n",
    "* input\n",
    "* Форматирование\n",
    "* print и параметры *sep*, *end*\n",
    "* if-else, elif"
   ]
  },
  {
   "cell_type": "code",
   "execution_count": 14,
   "id": "f9770bf9",
   "metadata": {},
   "outputs": [
    {
     "name": "stdout",
     "output_type": "stream",
     "text": [
      "123True\n"
     ]
    }
   ],
   "source": [
    "# ТЕКСТ (СТРОКИ) (STR, STRING)\n",
    "# Конкатенация (слияние). Сцепить текст только с текстом\n",
    "\n",
    "print(str(123)+str(True))"
   ]
  },
  {
   "cell_type": "code",
   "execution_count": 16,
   "id": "2e2e5a75",
   "metadata": {},
   "outputs": [
    {
     "name": "stdout",
     "output_type": "stream",
     "text": [
      "Как вас зовут?ССС\n",
      "ССС\n",
      "Сколько стоит мороженое?15\n",
      "15\n"
     ]
    }
   ],
   "source": [
    "'''\n",
    " input - создает поле для ввода. \n",
    " По умолчанию все введенные значения по умолчанию тип - текст \n",
    " НЕ НАДО ПРЕОБРАЗОВЫВАТЬ Input в str\n",
    " \n",
    " x = то что мы введем в окошко\n",
    "'''\n",
    "\n",
    "x = input('Как вас зовут?')\n",
    "print(x)\n",
    "\n",
    "price = input('Сколько стоит мороженое?')\n",
    "print(int(price))"
   ]
  },
  {
   "cell_type": "code",
   "execution_count": 17,
   "id": "0601d7e8",
   "metadata": {},
   "outputs": [
    {
     "name": "stdout",
     "output_type": "stream",
     "text": [
      "Input x value: 15\n",
      "Input y value: 20\n",
      "1520\n"
     ]
    }
   ],
   "source": [
    "# произошла склейка строк, по умолчанию input() сохраняет значение типа str\n",
    "x = input('Input x value: ')\n",
    "y = input('Input y value: ')\n",
    "print(x + y) "
   ]
  },
  {
   "cell_type": "code",
   "execution_count": 19,
   "id": "1e16cb13",
   "metadata": {},
   "outputs": [
    {
     "name": "stdout",
     "output_type": "stream",
     "text": [
      "Input x value: 15\n",
      "Input y value: 20\n",
      "35\n"
     ]
    }
   ],
   "source": [
    "# вот теперь произошло сложение чисел\n",
    "x = int(input('Input x value: '))\n",
    "y = int(input('Input y value: '))\n",
    "print(x + y) "
   ]
  },
  {
   "cell_type": "code",
   "execution_count": 21,
   "id": "9e0ce222",
   "metadata": {},
   "outputs": [
    {
     "name": "stdout",
     "output_type": "stream",
     "text": [
      "15\n",
      "15yay\n"
     ]
    }
   ],
   "source": [
    "'''\n",
    "Задача 1\n",
    "Pig Latin - вымышленный язык, который в конец каждого слова подставляет 'yay' \n",
    "(на самом деле оригинальные условия задачи несколько хитрее, но мы будем к ней возвращаться по ходу курса.\n",
    "'''\n",
    "stroka=input()\n",
    "print(stroka+'yay')"
   ]
  },
  {
   "cell_type": "code",
   "execution_count": 22,
   "id": "b1a58593",
   "metadata": {},
   "outputs": [
    {
     "name": "stdout",
     "output_type": "stream",
     "text": [
      "Введите число: 15\n",
      "22956841138659320477502295684067952249770431588613406795225\n"
     ]
    }
   ],
   "source": [
    "'''\n",
    "Задача 2\n",
    "Вводится целое число X. \n",
    "Повторите его X раз и возведите полученное число в квадрат. \n",
    "Напечатайте получившееся.\n",
    "'''\n",
    "num=input('Введите число: ')\n",
    "numnum=num*int(num) # продублировали значение столько же раз, что представляе с собой значение\n",
    "print(int(numnum)**2)"
   ]
  },
  {
   "cell_type": "markdown",
   "id": "bced0ee0",
   "metadata": {},
   "source": [
    "## Форматирование строк"
   ]
  },
  {
   "cell_type": "code",
   "execution_count": 23,
   "id": "85d7d367",
   "metadata": {},
   "outputs": [
    {
     "name": "stdout",
     "output_type": "stream",
     "text": [
      "Введите имя: rff\n",
      "Введите возраст: 15\n",
      "Ваше имя: rff. Ваш возраст: 15.\n",
      "Введите рост:20\n",
      "Ваш рост: 20.00 м\n"
     ]
    }
   ],
   "source": [
    "name = input('Введите имя: ')\n",
    "age = int(input('Введите возраст: '))\n",
    "\n",
    "# Ввести Ваше имя:имя. Ваш возраст:возраст.\n",
    "\n",
    "# var1\n",
    "''' \n",
    "s - string, i - integer сокращение от типа данных\n",
    "() соответственно аргументы в заданном порядке\n",
    "%  перед () ставится , чтобы сообщить, что это не единая строка, а спецсимволы, в которые можно подставить переменные\n",
    "'''\n",
    "result=\"Ваше имя: %s. Ваш возраст: %i.\" % (name,age)\n",
    "print(result)\n",
    "\n",
    "# для float можно указать количество знаков, например 2 (после % точка)\n",
    "height = float(input(\"Введите рост:\"))\n",
    "print(\"Ваш рост: %.2f м\" % height)"
   ]
  },
  {
   "cell_type": "code",
   "execution_count": 24,
   "id": "da1ae813",
   "metadata": {},
   "outputs": [
    {
     "name": "stdout",
     "output_type": "stream",
     "text": [
      "Ваше имя: rff. Ваш возраст: 15. Рост: 20.00\n"
     ]
    }
   ],
   "source": [
    "# var2\n",
    "print(f\"Ваше имя: {name}. Ваш возраст: {age}. Рост: {height:.2f}\")"
   ]
  },
  {
   "cell_type": "code",
   "execution_count": 25,
   "id": "0dfc8538",
   "metadata": {},
   "outputs": [
    {
     "name": "stdout",
     "output_type": "stream",
     "text": [
      "Ваше имя: rff. Ваш возраст: 15\n"
     ]
    }
   ],
   "source": [
    "# var3\n",
    "print(\"Ваше имя: {}. Ваш возраст: {}\".format(name, age))"
   ]
  },
  {
   "cell_type": "code",
   "execution_count": 27,
   "id": "ccceb5c0",
   "metadata": {},
   "outputs": [
    {
     "name": "stdout",
     "output_type": "stream",
     "text": [
      "Ваше имя: rff. Ваш возраст: 15. Рост: 20.00. Все верно, rff?\n"
     ]
    }
   ],
   "source": [
    "# var4 удобно, когда нужно повторить какие то переменные несколько раз.\n",
    "# порядок задается порядковыми номерами (от 0)\n",
    "print(\"Ваше имя: {2}. Ваш возраст: {0}. Рост: {1:.2f}. Все верно, {2}?\".format(age, height, name))"
   ]
  },
  {
   "cell_type": "markdown",
   "id": "064a98ee",
   "metadata": {},
   "source": [
    "**Функции** - самодостаточны, сработает и без аргументов. Питон вкурсе про функцию даже если не ввести аргумент\n",
    "\n",
    "**Методы** - существуют для определенных объектов (например, для отдельных типов данных)\n",
    "Питон не вкурсе про них, не самодостаточны (выдаст ошибку: is not defined)\n",
    "\n",
    "**Полиморфизм** - один и тот же метод: называется одинаково, но для разных типов они работают по-разному"
   ]
  },
  {
   "cell_type": "code",
   "execution_count": 29,
   "id": "b0cde8fe",
   "metadata": {},
   "outputs": [
    {
     "name": "stdout",
     "output_type": "stream",
     "text": [
      "Ваше имя: RFF. Ваш возраст: 32. Рост в футах: 65.62\n"
     ]
    }
   ],
   "source": [
    "# var5 можно применять разные функции, методы\n",
    "# upper() - функция применима только строк\n",
    "# {} - указать рамки, добавить вычисление\n",
    "print(f\"Ваше имя: {name.upper()}. Ваш возраст: {2020-1988}. Рост в футах: {height * 100 / 30.48 :.2f}\")"
   ]
  },
  {
   "cell_type": "code",
   "execution_count": 31,
   "id": "6d139031",
   "metadata": {},
   "outputs": [
    {
     "name": "stdout",
     "output_type": "stream",
     "text": [
      "3.141592653589793\n",
      "Значение 22/7 (3.14) является приближением числа pi (3.1416)\n",
      "Значение 22/7 3.142 является приближением числа pi 3.141592653589793\n"
     ]
    }
   ],
   "source": [
    "import math\n",
    " # константа pi\n",
    "print(math.pi)\n",
    "print(\"Значение 22/7 (%.2f) является приближением числа pi (%.4f)\" % (math.pi, math.pi))\n",
    "# более современный и простой способ\n",
    "print(f'Значение 22/7 {math.pi:.3f} является приближением числа pi {math.pi}')"
   ]
  },
  {
   "cell_type": "markdown",
   "id": "d5975c19",
   "metadata": {},
   "source": [
    "# Функция *print()* и ее параметры\n",
    "\n",
    "**sep** - от слова \"сепаратор\" (разделитель).\n",
    "По умолчанию разделитель - пробел\n",
    "\n",
    "print(1,2,3, sep='-')\n",
    "1-2-3\n",
    "\n",
    "Икромирование\\\n",
    "если заданная комбинация уже используется в тексте, то можно подставит второй слеш: \\\\n\n",
    "Икромированный n - перенос строки \\n\n",
    "\n",
    "**end** - можно задать последний символ после перечисления"
   ]
  },
  {
   "cell_type": "code",
   "execution_count": 33,
   "id": "993af8ea",
   "metadata": {},
   "outputs": [
    {
     "name": "stdout",
     "output_type": "stream",
     "text": [
      "1 2 3\n",
      "1/2/3\n",
      "123\n",
      "1 2 3\n",
      "1/2/3\n",
      "1\n",
      "2\n",
      "3\n"
     ]
    }
   ],
   "source": [
    "print(1,2,3)\n",
    "print(1,2,3, sep='/')\n",
    "print(1,2,3, sep='')\n",
    "print(1,2,3)\n",
    "print(1,2,3, sep='/')\n",
    "print(1,2,3, sep='\\n') # перенос на следующую строку (Икромированное n)"
   ]
  },
  {
   "cell_type": "code",
   "execution_count": 35,
   "id": "67407288",
   "metadata": {},
   "outputs": [
    {
     "name": "stdout",
     "output_type": "stream",
     "text": [
      "1.2.3!2\n",
      "1.2.3!\n",
      "2\n"
     ]
    }
   ],
   "source": [
    "# ввести два принт друг за другом после end - строки слипнутся\n",
    "print (1,2,3, sep='.', end='!')\n",
    "print(2)\n",
    "# print('\\n')\n",
    "# следующее значение вывести после переноса строки\n",
    "print (1,2,3, sep='.', end='!\\n')\n",
    "print(2)"
   ]
  },
  {
   "cell_type": "markdown",
   "id": "1c9c7b3f",
   "metadata": {},
   "source": [
    "## Условные конструкции"
   ]
  },
  {
   "cell_type": "code",
   "execution_count": 37,
   "id": "f2931958",
   "metadata": {},
   "outputs": [
    {
     "name": "stdout",
     "output_type": "stream",
     "text": [
      "False\n",
      "True\n"
     ]
    }
   ],
   "source": [
    "income_2019 = 15\n",
    "income_2020 = 16.5\n",
    "income_2021 = 16.5\n",
    "\n",
    "# сравнение прибыли между собой\n",
    "print(income_2019 == income_2020)\n",
    "print(income_2020 == income_2021)"
   ]
  },
  {
   "cell_type": "code",
   "execution_count": 40,
   "id": "d40c359a",
   "metadata": {},
   "outputs": [
    {
     "name": "stdout",
     "output_type": "stream",
     "text": [
      "Введите число: 15\n",
      "Много\n"
     ]
    }
   ],
   "source": [
    "n = int(input('Введите число: '))\n",
    "\n",
    "# : - Обозначает, что выражение закончилось и даьше идут команды-действия\n",
    "#  после else не пишем условия, так как else переводится «в случае, если условие в выражении с if не выполнено»\n",
    "if n < 10:\n",
    "    print('Меньше 10')\n",
    "    print('hghgh')\n",
    "else:\n",
    "    print ('Много')"
   ]
  },
  {
   "cell_type": "code",
   "execution_count": 42,
   "id": "c8dfac15",
   "metadata": {},
   "outputs": [
    {
     "name": "stdout",
     "output_type": "stream",
     "text": [
      "Много\n"
     ]
    }
   ],
   "source": [
    "# elif - условие, которое мы проверяем, зная, что предыдущее не выполнено\n",
    "\n",
    "if n < 10:\n",
    "    print('Мало')\n",
    "elif x==10:\n",
    "    print(\"В самый раз\")\n",
    "else:\n",
    "    print(\"Много\")"
   ]
  },
  {
   "cell_type": "code",
   "execution_count": 43,
   "id": "6b09de47",
   "metadata": {},
   "outputs": [
    {
     "name": "stdout",
     "output_type": "stream",
     "text": [
      "Введите время (0-24): 10\n",
      "Бодрствуем!\n"
     ]
    }
   ],
   "source": [
    "# Задача 1\n",
    "'''\n",
    "Реализуйте следующую программу:\n",
    "\n",
    "В переменную time считывается целое число (время суток от 0 до 24).\n",
    "Если время от 8 до 22 включительно, то программа печатает \"Бодрствуем!\", иначе — \"Время спать!\".\n",
    "'''\n",
    "\n",
    "time = int(input('Введите время (0-24): '))\n",
    "if time>=8 and time<=22:\n",
    "    print('Бодрствуем!')\n",
    "else:\n",
    "    print('Время спать')"
   ]
  },
  {
   "cell_type": "code",
   "execution_count": 45,
   "id": "c94789d9",
   "metadata": {},
   "outputs": [
    {
     "name": "stdout",
     "output_type": "stream",
     "text": [
      "Введите цену в рублях: 15000\n",
      "3750\n"
     ]
    }
   ],
   "source": [
    "# Задача 2\n",
    "'''\n",
    "Распродажа\n",
    "\n",
    "В магазине проходит акция:\n",
    "\n",
    "На все товары дешевле 1000 рублей скидка 15%\n",
    "На все товары дороже 1000, но дешевле или равно 5000 рублей скидка 20%\n",
    "На все товары дороже 5000 рублей скидка 25%\n",
    "Ввод Целое неотрицательное число - цена товара в рублях\n",
    "\n",
    "Вывод Целое неотрицательное число - скидка на товар в рублях\n",
    "'''\n",
    "\n",
    "price = int(input('Введите цену в рублях: '))\n",
    "if price < 1000:\n",
    "    print(int(price*0.15))\n",
    "elif price <= 5000:\n",
    "    print(int(price*0.2))\n",
    "else:\n",
    "    print(int(price*0.25))"
   ]
  },
  {
   "cell_type": "code",
   "execution_count": 48,
   "id": "d1883d57",
   "metadata": {},
   "outputs": [
    {
     "name": "stdout",
     "output_type": "stream",
     "text": [
      "Введите цену в рублях: 15000\n",
      "3750\n"
     ]
    }
   ],
   "source": [
    "price = int(input('Введите цену в рублях: '))\n",
    "if price < 1000:\n",
    "    discount = price*0.15\n",
    "elif price <= 5000:\n",
    "    discount = price*0.2\n",
    "else:\n",
    "    discount = price*0.25\n",
    "print(round(discount))"
   ]
  },
  {
   "cell_type": "code",
   "execution_count": 50,
   "id": "a9a4d7e6",
   "metadata": {},
   "outputs": [
    {
     "name": "stdout",
     "output_type": "stream",
     "text": [
      "Количество поездок за 30 дней: 100\n",
      "Выгоднее проездной\n"
     ]
    }
   ],
   "source": [
    "# Задача 3\n",
    "'''\n",
    "Разовая поездка на метро по карте \"Тройка\" стоит 40 рублей, \n",
    "проездной на 30 дней — 2170 рублей. \n",
    "Валя подсчитала, сколько она совершает поездок за 30 дней, \n",
    "помогите ей понять, чем выгоднее пользоваться — проездным или разовыми поездками.\n",
    "'''\n",
    "count = int(input('Количество поездок за 30 дней: '))\n",
    "if count*40 < 2170:\n",
    "    print('Выгоднее разовые поездки')\n",
    "else:\n",
    "    print('Выгоднее проездной')"
   ]
  },
  {
   "cell_type": "code",
   "execution_count": 52,
   "id": "69a82cd4",
   "metadata": {},
   "outputs": [
    {
     "name": "stdout",
     "output_type": "stream",
     "text": [
      "Год: 2001\n",
      "NO\n"
     ]
    }
   ],
   "source": [
    "# Задача 4\n",
    "'''\n",
    "Дано натуральное число. \n",
    "Требуется определить, является ли год с данным номером високосным. \n",
    "Если год является високосным, то выведите YES, иначе выведите NO. \n",
    "Напомним, что в соответствии с григорианским календарем, \n",
    "год является високосным, если его номер кратен 4, но не кратен 100, \n",
    "а также если он кратен 400.\n",
    "'''\n",
    "\n",
    "year = int(input(\"Год: \"))\n",
    "if (year%4 == 0 and year%100 != 0) or year%400 == 0:\n",
    "    print('YES')\n",
    "else:\n",
    "    print('NO')"
   ]
  },
  {
   "cell_type": "code",
   "execution_count": 54,
   "id": "457acfb7",
   "metadata": {},
   "outputs": [
    {
     "name": "stdout",
     "output_type": "stream",
     "text": [
      "Количество дедлайнов: 5\n",
      "5 дедлайнов\n"
     ]
    }
   ],
   "source": [
    "# Задача 5\n",
    "'''\n",
    "Для данного числа n<100 закончите фразу “У меня на этой неделе...” \n",
    "одним из возможных продолжений: \n",
    "“n дедлайн”, \"n дедлайна”, “n дедлайнов”, правильно склоняя слово “дедлайн”.\n",
    "'''\n",
    "numb = int(input('Количество дедлайнов: '))\n",
    "lastnum = numb%10\n",
    "if 11 <= numb <= 14 or 5 <= lastnum <=9 or lastnum==0:\n",
    "    print (numb, 'дедлайнов')\n",
    "elif lastnum == 1:\n",
    "    print (numb, 'дедлайн')\n",
    "else:\n",
    "    print (numb, 'дедлайна')"
   ]
  },
  {
   "cell_type": "code",
   "execution_count": 56,
   "id": "0c9ac938",
   "metadata": {},
   "outputs": [
    {
     "name": "stdout",
     "output_type": "stream",
     "text": [
      "На что вы жалуетесь: температура\n",
      "Укажите температуру: 20\n",
      "Принимайте Антижарин-2\n"
     ]
    }
   ],
   "source": [
    "# Задача 6\n",
    "'''\n",
    "Доктор Айболит решил собрать робота, \n",
    "который поможет ему делать стандартные назначения. \n",
    "Для начала робота нужно научить следующим действиям:\n",
    "\n",
    "Сначала спросить пациента, на что он жалуется\n",
    "Если пациент пожаловался на кашель, спросить, какой кашель — влажный или сухой?\n",
    "От влажного кашля робот назначает \"Отхаркин-1\", а от сухого \"Отхаркин-2\"\n",
    "\n",
    "Если пациент пожаловался на температуру, спросить, какая температура. \n",
    "Если она выше 38 градусов, робот назначает \"Антижарин-1\", иначе \"Антижарин-2\"\n",
    "Иначе робот отправляет пациента к доктору Айболиту\n",
    "Помогите Айболиту реализовать такого робота.\n",
    "'''\n",
    "\n",
    "info = input('На что вы жалуетесь: ')\n",
    "\n",
    "if info == 'кашель':\n",
    "    info2 = input ('Укажите, какой кашель: сухой или влажный: ')\n",
    "    if info2 == 'сухой':\n",
    "        print('Принимайте Отхаркин-2')\n",
    "    else:\n",
    "         print('Принимайте Отхаркин-1')\n",
    "elif info == 'температура':\n",
    "    info3 = float(input('Укажите температуру: '))\n",
    "    if info3 > 38:\n",
    "        print('Принимайте Антижарин-1')\n",
    "    else:\n",
    "        print('Принимайте Антижарин-2')\n",
    "else:\n",
    "    print('Пожалуйста, обратитесь к доктору Айболиту')"
   ]
  },
  {
   "cell_type": "markdown",
   "id": "659b0e3f",
   "metadata": {},
   "source": [
    "12.09.2023\n",
    "* Список, перечисление (in)\n",
    "* Упрощенная запись в 1 строку\n",
    "* Циклы (while)\n",
    "* Конструкции внутри циклов (break, continue, pass, else)\n",
    "* Алгоритмы\n",
    "* Вложенные циклы\n",
    "* Коллекции (множества, списки, кортежи)\n",
    "* Множества ({}, len, add, discard, remove, pop)\n",
    "* Операции с двумя множествами"
   ]
  },
  {
   "cell_type": "markdown",
   "id": "fd31c574",
   "metadata": {},
   "source": [
    "### Список, перечисление IN"
   ]
  },
  {
   "cell_type": "code",
   "execution_count": 59,
   "id": "3283217a",
   "metadata": {},
   "outputs": [
    {
     "name": "stdout",
     "output_type": "stream",
     "text": [
      "INVALID\n"
     ]
    }
   ],
   "source": [
    "# Если условие попадает в квадратных скобках, значит условие удовлетворено\n",
    "\n",
    "ccn = 13\n",
    "fd = 54\n",
    "if ccn == 16 and 51 <= fd <= 55:\n",
    "    print(\"Maybe MASTERCARD\")\n",
    "elif ccn in [13, 15, 16] and fd == 4:\n",
    "    print(\"Maybe VISA\")\n",
    "else:\n",
    "    print(\"INVALID\")"
   ]
  },
  {
   "cell_type": "markdown",
   "id": "ede9bc17",
   "metadata": {},
   "source": [
    "### Упрощенная запись в одну строку"
   ]
  },
  {
   "cell_type": "code",
   "execution_count": 61,
   "id": "5c71b3b3",
   "metadata": {},
   "outputs": [
    {
     "name": "stdout",
     "output_type": "stream",
     "text": [
      "1\n",
      "2\n",
      "15\n",
      "Customer's Age:  15\n",
      "Discount provided: 10\n"
     ]
    }
   ],
   "source": [
    "# тернарный оператор - запись Ifelse в одну строку. Примеры\n",
    "# Задавать значения нескольким переменным\n",
    "a, b, c = 1, 2, 3\n",
    "aa , bb = input(), input()\n",
    "# простые конструкцие if - else\n",
    "x , y = 50, 75\n",
    "biggest = x if x > y else y\n",
    "# аналог\n",
    "if x < y:\n",
    "    biggest = y\n",
    "else:\n",
    "    biggest = x\n",
    "\n",
    "# рассчитать скидку в зависимости от возраста покупателя\n",
    "cust_age = int(input()) \n",
    "# читаем как и пишем: записать значение 20, если возраст > 60, в других случаях записать 10\n",
    "cust_discount = 20 if cust_age > 60 else 10 \n",
    "\n",
    "print( \"Customer's Age: \", cust_age ) \n",
    "print( \"Discount provided:\", cust_discount ) "
   ]
  },
  {
   "cell_type": "markdown",
   "id": "efb50301",
   "metadata": {},
   "source": [
    "## Циклы\n",
    "While работает до тех пор, пока какое-то условие не выполнится\n",
    "используется, когда непонятно сколько будет попыток, но известно условие\n",
    "\n",
    "Начало цикла, условие при котором необходимо зайти в цикл (для продолжения действия)\n",
    "Через tab что необходимо сделать.\n",
    "\n",
    "while <<условие>> :\n",
    "    <<блок инструкций>>\n",
    "    \n",
    "Необходимо продумать условие, при котором цикл не может буть бесконечным. ограничение по времени"
   ]
  },
  {
   "cell_type": "code",
   "execution_count": 63,
   "id": "01285b42",
   "metadata": {},
   "outputs": [
    {
     "name": "stdout",
     "output_type": "stream",
     "text": [
      "2\n",
      "1\n",
      "2\n"
     ]
    }
   ],
   "source": [
    "# Задача 1\n",
    "'''вывести все числа от 1 до заданного пользователем целого числа N \n",
    "с помощью цикла while'''\n",
    "N = int(input()) # пользователь вводит число\n",
    "\n",
    "i = 1            # вводим вспомогательный счетчик\n",
    "\n",
    "while i <= N:    # проверяемое условие\n",
    "    print(i)     # вывод числа на экран в теле цикла\n",
    "    i = i + 1    # переходим к следующему числу, увеличиваем счетчик на 1 (Вариант 2: i+=1)"
   ]
  },
  {
   "cell_type": "code",
   "execution_count": 65,
   "id": "461528ee",
   "metadata": {},
   "outputs": [
    {
     "name": "stdout",
     "output_type": "stream",
     "text": [
      "23\n",
      "2\n"
     ]
    }
   ],
   "source": [
    "#Задача 2\n",
    "'''Попробуем посчитать из скольки цифр состоит натуральное число, \n",
    "введенное пользователем с клавиатуры с помощью цикла while'''\n",
    "N = int(input())    # пользователь вводит число\n",
    "\n",
    "length = 0          # вводим вспомогательный счетчик\n",
    "\n",
    "while N > 0:        # проверяемое условие\n",
    "    N //= 10        # целочисленное деление на 10\n",
    "    length += 1     # переходим к следующему числу, увеличиваем счетчик на 1 \n",
    "    \n",
    "print(length)       # выводим результат"
   ]
  },
  {
   "cell_type": "code",
   "execution_count": 67,
   "id": "f65eb2e4",
   "metadata": {},
   "outputs": [
    {
     "name": "stdout",
     "output_type": "stream",
     "text": [
      "1\n",
      "2\n",
      "4\n",
      "8\n",
      "16\n",
      "32\n",
      "64\n",
      "128\n",
      "256\n",
      "512\n",
      "1024\n"
     ]
    }
   ],
   "source": [
    "# Задача 3\n",
    "'''Используя цикл while, выведите на экран для числа 2 его степени от 0 до 10.\n",
    "'''\n",
    "M = 2\n",
    "degree = 0\n",
    "\n",
    "while degree <=10:\n",
    "    print(M**degree)\n",
    "    degree += 1\n"
   ]
  },
  {
   "cell_type": "code",
   "execution_count": 69,
   "id": "f50ad11f",
   "metadata": {},
   "outputs": [
    {
     "name": "stdout",
     "output_type": "stream",
     "text": [
      "Введите число для вычисления факториала: 5\n",
      "1\n",
      "2\n",
      "6\n",
      "24\n",
      "120\n"
     ]
    }
   ],
   "source": [
    "# Задача 4\n",
    "'''Программа по вычислению факториала числа, заданного пользователем'''\n",
    "\n",
    "N = int(input('Введите число для вычисления факториала: '))\n",
    "counter = 1\n",
    "factorial = 1\n",
    "\n",
    "while counter <= N:\n",
    "    factorial *= counter\n",
    "    counter +=1\n",
    "    print (factorial)"
   ]
  },
  {
   "cell_type": "code",
   "execution_count": 71,
   "id": "ba8c3d45",
   "metadata": {},
   "outputs": [
    {
     "name": "stdout",
     "output_type": "stream",
     "text": [
      "Попытка 1: 50\n",
      "Вы ввели слишком маленькое число.\n",
      "Попытка 2: 100\n",
      "Вы ввели слишком большое число.\n",
      "Попытка 3: 80\n",
      "Вы ввели слишком большое число.\n",
      "Попытка 4: 70\n",
      "Вы выиграли!\n"
     ]
    }
   ],
   "source": [
    "# Задача 6\n",
    "'''\n",
    "Программа будет загадывать целое число от 1 до 100, \n",
    "а пользователь его угадывать. \n",
    "Необходимо выбирать число случайным образом из интервала [1, 100] \n",
    "(на самом деле псевдослучайным образом, \n",
    "так как абсолютной случайности не получится, \n",
    "генерирование чисел происходит по фиксированным алгоритмам).\n",
    "'''\n",
    "from random import randrange # импортируем функию randrange\n",
    "n = randrange(1, 101) # n и есть загаданное число\n",
    "countGuess = 1 # Номер попытки\n",
    "\n",
    "# нужно чтобы цикл не прерывался, внутри пишем условие через if, потом break\n",
    "while True:\n",
    "    guess = int(input(\"Попытка %.i: \" % (countGuess)))\n",
    "    if guess == n:\n",
    "        print(\"Вы выиграли!\")\n",
    "        break\n",
    "    elif guess > n:\n",
    "        print(\"Вы ввели слишком большое число.\")\n",
    "        countGuess +=1\n",
    "    else: \n",
    "        print(\"Вы ввели слишком маленькое число.\")\n",
    "        countGuess +=1"
   ]
  },
  {
   "cell_type": "markdown",
   "id": "3a754ce0",
   "metadata": {},
   "source": [
    "### Инструкции, использующиеся внутри циклов\n",
    "**break** – Прерывание всего цикла. производит переход за пределы цикла\n",
    "\n",
    "**continue** – Пропуск шага цикла. производит переход в начало цикла\n",
    "\n",
    "**pass** – ничего не делает (пустая конструкция-заполнитель). Как правило применяется для собственной отладки\n",
    "\n",
    "**else** – выполняется, только если цикл завершился обычным образом (без использования break)"
   ]
  },
  {
   "cell_type": "code",
   "execution_count": 73,
   "id": "deb239f8",
   "metadata": {},
   "outputs": [
    {
     "name": "stdout",
     "output_type": "stream",
     "text": [
      "0\n",
      "1\n",
      "2\n",
      "3\n"
     ]
    }
   ],
   "source": [
    "# Пример break\n",
    "\n",
    "i = 0\n",
    "\n",
    "while i <= 5:\n",
    "    print(i)\n",
    "    if i == 3:\n",
    "        break # полностью выводит нас из цикла\n",
    "    i += 1"
   ]
  },
  {
   "cell_type": "code",
   "execution_count": 75,
   "id": "79ee30dd",
   "metadata": {},
   "outputs": [
    {
     "name": "stdout",
     "output_type": "stream",
     "text": [
      "1\n",
      "2\n",
      "Тройку пропускаем\n",
      "4\n",
      "5\n",
      "6\n"
     ]
    }
   ],
   "source": [
    "# Пример continue\n",
    "\n",
    "i = 0\n",
    "\n",
    "while i <= 5:\n",
    "    i += 1    \n",
    "    if i == 3:\n",
    "        print(\"Тройку пропускаем\")\n",
    "        continue # пропускаем дальнеший код в теле цикла и возвращаемся к началу\n",
    "        \n",
    "    print(i)"
   ]
  },
  {
   "cell_type": "code",
   "execution_count": 78,
   "id": "2b4be981",
   "metadata": {},
   "outputs": [
    {
     "name": "stdout",
     "output_type": "stream",
     "text": [
      "0\n",
      "1\n",
      "2\n",
      "3\n",
      "4\n",
      "6\n",
      "7\n",
      "8\n",
      "9\n",
      "10\n"
     ]
    }
   ],
   "source": [
    "# Пример pass\n",
    "i = 0\n",
    "\n",
    "while i <= 10:\n",
    "    if i == 5:\n",
    "        pass # ничего не делаем (например, программу еще не написали)\n",
    "    else:\n",
    "        print(i)\n",
    "    i += 1"
   ]
  },
  {
   "cell_type": "code",
   "execution_count": 80,
   "id": "09cb26ea",
   "metadata": {},
   "outputs": [
    {
     "name": "stdout",
     "output_type": "stream",
     "text": [
      "0\n",
      "1\n",
      "2\n",
      "3\n",
      "4\n",
      "6\n",
      "7\n",
      "8\n",
      "9\n",
      "10\n"
     ]
    }
   ],
   "source": [
    "# Пример pass\n",
    "i = 0\n",
    "\n",
    "while i <= 10:\n",
    "    if i == 5:\n",
    "        pass # ничего не делаем (например, программу еще не написали)\n",
    "    else:\n",
    "        print(i)\n",
    "    i += 1"
   ]
  },
  {
   "cell_type": "code",
   "execution_count": 82,
   "id": "1bce17bb",
   "metadata": {},
   "outputs": [
    {
     "name": "stdout",
     "output_type": "stream",
     "text": [
      "Task 1\n",
      "Task 2\n",
      "Done\n"
     ]
    }
   ],
   "source": [
    "'''\n",
    "переменная-flag, благодаря которой \n",
    "мы можем контролировать истинность условия цикла while\n",
    "\n",
    "Else выполнится, выполнится, потому что цикл \n",
    "завершился в обычном формате (без прерывания внутри)\n",
    "\n",
    "'''\n",
    "\n",
    "flag = True \n",
    "\n",
    "while flag:\n",
    "    print('Task 1')\n",
    "    flag = False\n",
    "    print('Task 2')\n",
    "\n",
    "else:\n",
    "    print('Done')   "
   ]
  },
  {
   "cell_type": "markdown",
   "id": "cfe1dc2e",
   "metadata": {},
   "source": [
    "### Алгоритмы\n",
    "\n",
    "- алгоритм бинарного поиска - поиск самым оптимальным способом"
   ]
  },
  {
   "cell_type": "code",
   "execution_count": 83,
   "id": "6bb55244",
   "metadata": {},
   "outputs": [
    {
     "name": "stdout",
     "output_type": "stream",
     "text": [
      "6\n",
      "Попытка 1: 5\n",
      "Попытка 2: 8\n",
      "Попытка 3: 6\n",
      "Угадали с 3 попытки\n"
     ]
    }
   ],
   "source": [
    "# Пример по задаче 6 \n",
    "'''мы выводим количество попыток \n",
    "при котором алгоритм оптимально определит наше число'''\n",
    "\n",
    "my_list = [1,2,3,4,5,6,7,8,9,10]\n",
    "item = int(input()) # переменная в которую загадываем число\n",
    "\n",
    "# len - порядковый номер помледнего элемента - количество элементов-1\n",
    "low = 0\n",
    "high = len(my_list)-1\n",
    "counter = 0\n",
    "\n",
    "while True:\n",
    "    mid = (low + high)//2 # Определяем серединку\n",
    "# выбрать элемент из списка по порядковому номеру\n",
    "\n",
    "# [] вытаскивыем элемент из списка, в скобках указываем что именно вытаскиваем\n",
    "    guess = my_list[mid]\n",
    "    counter +=1\n",
    "    print(f'Попытка {counter}: {guess}')\n",
    "    \n",
    "    if guess == item:\n",
    "        print ('Угадали с', counter, 'попытки')\n",
    "        break\n",
    "        \n",
    "    elif guess > item:\n",
    "        high = mid-1\n",
    "        \n",
    "    else: low = mid+1"
   ]
  },
  {
   "cell_type": "code",
   "execution_count": 85,
   "id": "9b34a86a",
   "metadata": {},
   "outputs": [
    {
     "name": "stdout",
     "output_type": "stream",
     "text": [
      "PythonLover123\n"
     ]
    }
   ],
   "source": [
    "# Задача 7\n",
    "'''\n",
    "Напишите программу, которая будет проверять верность \n",
    "введенного пользователем пароля, пока пароль не совпадет с истинным.\n",
    "Верный пароль пользователя – 'PythonLover123'\n",
    "'''\n",
    "\n",
    "passCorrect ='PythonLover123'\n",
    "passUser = input()\n",
    "\n",
    "while passUser != passCorrect:\n",
    "    passUser = input()\n",
    "\n"
   ]
  },
  {
   "cell_type": "code",
   "execution_count": 87,
   "id": "e0a328b7",
   "metadata": {},
   "outputs": [
    {
     "name": "stdout",
     "output_type": "stream",
     "text": [
      "aq3w\n",
      "Осталось попыток: 2\n",
      "passs\n",
      "Осталось попыток: 1\n",
      "pass\n",
      "OK\n"
     ]
    }
   ],
   "source": [
    "# Задача 8\n",
    "'''У пользователя теперь есть только 3 попытки на ввод пароля, \n",
    "и программа должна сообщать ему об этом после каждой неудачной попытки.\n",
    "'''\n",
    "passCorrect ='pass'\n",
    "counter = 3\n",
    "\n",
    "while counter > 0:\n",
    "    counter -=1\n",
    "    passUser = input()\n",
    "    \n",
    "    if passUser == passCorrect:\n",
    "        print('OK')\n",
    "        break\n",
    "    \n",
    "    else:\n",
    "        print(f'Осталось попыток: {counter}')\n",
    "\n"
   ]
  },
  {
   "cell_type": "markdown",
   "id": "7fcde144",
   "metadata": {},
   "source": [
    "### Вложенные циклы"
   ]
  },
  {
   "cell_type": "code",
   "execution_count": 89,
   "id": "b44785d4",
   "metadata": {},
   "outputs": [
    {
     "name": "stdout",
     "output_type": "stream",
     "text": [
      "1*1=1\n",
      "1*2=2\n",
      "1*3=3\n",
      "1*4=4\n",
      "1*5=5\n",
      "\n",
      "\n",
      "2*1=2\n",
      "2*2=4\n",
      "2*3=6\n",
      "2*4=8\n",
      "2*5=10\n",
      "\n",
      "\n",
      "3*1=3\n",
      "3*2=6\n",
      "3*3=9\n",
      "3*4=12\n",
      "3*5=15\n",
      "\n",
      "\n",
      "4*1=4\n",
      "4*2=8\n",
      "4*3=12\n",
      "4*4=16\n",
      "4*5=20\n",
      "\n",
      "\n",
      "5*1=5\n",
      "5*2=10\n",
      "5*3=15\n",
      "5*4=20\n",
      "5*5=25\n",
      "\n",
      "\n"
     ]
    }
   ],
   "source": [
    "# Задача 9\n",
    "'''\n",
    "Выведите таблицу умножения от 1 до 5.\n",
    "'''\n",
    "x = 1\n",
    "\n",
    "while x <= 5:\n",
    "    y = 1\n",
    "    while y <= 5:\n",
    "        result=print(x,'*',y,'=',x*y, sep='' )\n",
    "        y +=1\n",
    "    x +=1\n",
    "    print('\\n')"
   ]
  },
  {
   "cell_type": "markdown",
   "id": "d987b09c",
   "metadata": {},
   "source": [
    "### Коллекции\n",
    "- **множества** - {} нет дубликатов, они автоматически удаляются.\n",
    "\n",
    "    Не упорядоченные данные (нет порядка).\n",
    "    \n",
    "    Из-за того что нет информации о порядке элементов, работает гораздо быстрее.\n",
    "    \n",
    "    записывается через {}\n",
    "    \n",
    "    множество выводятся в случайном порядке\n",
    "    \n",
    "    могут быть как числа так и строки так и оба этих типа\n",
    "- **списки** - () все элементы записывает отдельно, есть порядок (от 0)\n",
    "- **кортежи** - [] замороженные списки"
   ]
  },
  {
   "cell_type": "code",
   "execution_count": 91,
   "id": "d67ed028",
   "metadata": {},
   "outputs": [
    {
     "name": "stdout",
     "output_type": "stream",
     "text": [
      "{'wolf', 'cat', 'fox', 'dog'}\n"
     ]
    },
    {
     "data": {
      "text/plain": [
       "{'H', 'e', 'l', 'o'}"
      ]
     },
     "execution_count": 91,
     "metadata": {},
     "output_type": "execute_result"
    }
   ],
   "source": [
    "# множества\n",
    "animals = {'cat', 'dog', 'fox', 'wolf'}\n",
    "print(animals)\n",
    "\n",
    "# Создание пустого множества\n",
    "empty = set()\n",
    "set('Hello')"
   ]
  },
  {
   "cell_type": "code",
   "execution_count": 93,
   "id": "21a96064",
   "metadata": {},
   "outputs": [
    {
     "name": "stdout",
     "output_type": "stream",
     "text": [
      "4\n",
      "{1, 2, 3, 'f', 'a'}\n"
     ]
    }
   ],
   "source": [
    "# функции с множествами\n",
    "my_set = {1,2,3,'f', 3}\n",
    "n=len(my_set)\n",
    "print(n) # смотрим сколько элементов в множестве (без повторов)\n",
    "\n",
    "# Методы множеств (работают только с множествами)\n",
    "# Добавление элементов .add\n",
    "my_set.add('f')\n",
    "my_set.add('a')\n",
    "print(my_set)\n",
    "\n",
    "# Удаление элементов : 3 метода .discard .remove .pop\n",
    "\n",
    "# Очистка всего множества .clear()"
   ]
  },
  {
   "cell_type": "markdown",
   "id": "b3790c7f",
   "metadata": {},
   "source": [
    "Для удаления есть три метода:\n",
    "   - **discard**  - удалить заданный элемент, если он есть в множестве, и ничего не делать, если его нет;\n",
    "   - **remove** - удалить заданный элемент, если он есть, и породить ошибку KeyError, если нет;\n",
    "   - **pop** - Случайно выбирает кого удалить и куда-то передает (сохраняет в переменную). удалить некоторый элемент из множества и возвратить его как результат."
   ]
  },
  {
   "cell_type": "markdown",
   "id": "ceab6112",
   "metadata": {},
   "source": [
    "### Операции с двумя множествами"
   ]
  },
  {
   "cell_type": "code",
   "execution_count": 96,
   "id": "8da0a163",
   "metadata": {},
   "outputs": [
    {
     "name": "stdout",
     "output_type": "stream",
     "text": [
      "{'4', '2', '3', '1'}\n",
      "{'4', '5', '6', '3'}\n",
      "{'6', '1', '4', '5', '2', '3'}\n",
      "{'4', '3'}\n",
      "{'2', '1'}\n",
      "{'6', '1', '5', '2'}\n"
     ]
    }
   ],
   "source": [
    "a = set ('1234')\n",
    "b = set ('3456')\n",
    "print(a)\n",
    "print(b)\n",
    "\n",
    "print(a | b) # Объединение (без повторов)\n",
    "print(a & b) # только пересечение\n",
    "print(a - b) # разность (есть только в а, но нет в б)\n",
    "print(a ^ b) # симметрическая разность (не важно в каком порядке записано)\n",
    "#Есть ИЛИ в а ИЛИ в б"
   ]
  },
  {
   "cell_type": "markdown",
   "id": "dbb0d604",
   "metadata": {},
   "source": [
    "#### Сравнение множеств - одно множество внутри другого\n",
    "< - множество находится четко внутри\n",
    "\n",
    "<= - Никаких новых, но внутренние могут совпасть\n",
    "\n",
    "== множества полностью совпадают"
   ]
  },
  {
   "cell_type": "code",
   "execution_count": 98,
   "id": "da262bd3",
   "metadata": {},
   "outputs": [
    {
     "data": {
      "text/plain": [
       "False"
      ]
     },
     "execution_count": 98,
     "metadata": {},
     "output_type": "execute_result"
    }
   ],
   "source": [
    "# есть отличия\n",
    "m1 = {'a', 'b', 'c'}\n",
    "m2 = {'a', 'c', 'd'}\n",
    "m1 >= m2"
   ]
  },
  {
   "cell_type": "code",
   "execution_count": 100,
   "id": "576e2935",
   "metadata": {},
   "outputs": [
    {
     "data": {
      "text/plain": [
       "True"
      ]
     },
     "execution_count": 100,
     "metadata": {},
     "output_type": "execute_result"
    }
   ],
   "source": [
    "m1 = {'a', 'b', 'c'}\n",
    "m2 = {'a', 'c', 'b', 'd'}\n",
    "m1 <= m2"
   ]
  },
  {
   "cell_type": "code",
   "execution_count": 103,
   "id": "80b1390f",
   "metadata": {},
   "outputs": [
    {
     "name": "stdout",
     "output_type": "stream",
     "text": [
      "15\n",
      "23\n",
      "Такое число нельзя использовать(\n"
     ]
    }
   ],
   "source": [
    "# Задача 9\n",
    "'''\n",
    "Аня и Маша  играют в игру. \n",
    "Аня вводит число, а Маша должна ввести число, в котором есть только те цифры, которые есть в числе Ани.\n",
    "Если Маша ввела верное число, то выводится \"Верное число!\". \n",
    "В противном случае \"Такое число нельзя использовать(\"\n",
    "'''\n",
    "\n",
    "anya = set(input())\n",
    "masha = set (input())\n",
    "\n",
    "if masha <= anya:\n",
    "    print('Верное число!')\n",
    "else:\n",
    "    print('Такое число нельзя использовать(')"
   ]
  },
  {
   "cell_type": "markdown",
   "id": "4b2f7e20",
   "metadata": {},
   "source": [
    "14.09.2023\n",
    "* Списки\n",
    "* Строки\n",
    "* Кортежи\n",
    "* Словари"
   ]
  },
  {
   "cell_type": "code",
   "execution_count": 105,
   "id": "d9da0a82",
   "metadata": {},
   "outputs": [
    {
     "name": "stdout",
     "output_type": "stream",
     "text": [
      "['Ivan Ivanov', 'Tatiana Sidorova', 'Maria Smirnova']\n",
      "<class 'list'>\n"
     ]
    }
   ],
   "source": [
    "# Списки \n",
    "# [], элементы разделяются запятыми\n",
    "\n",
    "students = ['Ivan Ivanov', 'Tatiana Sidorova', 'Maria Smirnova']\n",
    "print(students)\n",
    "print(type(students))"
   ]
  },
  {
   "cell_type": "code",
   "execution_count": 112,
   "id": "6e41c36a",
   "metadata": {},
   "outputs": [
    {
     "name": "stdout",
     "output_type": "stream",
     "text": [
      "[]\n"
     ]
    }
   ],
   "source": [
    "# пустой список\n",
    "a = []\n",
    "print(list())"
   ]
  },
  {
   "cell_type": "code",
   "execution_count": 114,
   "id": "93d8831d",
   "metadata": {},
   "outputs": [
    {
     "name": "stdout",
     "output_type": "stream",
     "text": [
      "['Ivan Ivanov', 1987, 7.5, True]\n"
     ]
    }
   ],
   "source": [
    "# Типы в списках согут быть смешанными\n",
    "student1 = ['Ivan Ivanov', 1987, 7.5, True]\n",
    "print(student1)\n"
   ]
  },
  {
   "cell_type": "code",
   "execution_count": 116,
   "id": "bfdb1518",
   "metadata": {},
   "outputs": [
    {
     "name": "stdout",
     "output_type": "stream",
     "text": [
      "[['Ivan Ivanov', 1987, 7.5, True], ['Maria Smirnova', 1991, 7.9, False]]\n"
     ]
    }
   ],
   "source": [
    "# Списки со списками\n",
    "student2 = ['Maria Smirnova', 1991, 7.9, False]\n",
    "students = [student1, student2]\n",
    "print(students)"
   ]
  },
  {
   "cell_type": "markdown",
   "id": "900639e9",
   "metadata": {},
   "source": [
    "### Срезы списков"
   ]
  },
  {
   "cell_type": "code",
   "execution_count": 118,
   "id": "375ed16d",
   "metadata": {},
   "outputs": [
    {
     "name": "stdout",
     "output_type": "stream",
     "text": [
      "Ivan Ivanov\n",
      "Tatiana Sidorova\n",
      "Tatiana Sidorova\n"
     ]
    }
   ],
   "source": [
    "# Элементы списка. у каждого элемента есть порядковый номер (от 0),\n",
    "\n",
    "\n",
    "students = ['Ivan Ivanov', 'Tatiana Sidorova', 'Maria Smirnova']\n",
    "print(students[0]) # первый элемент\n",
    "print(students[1]) # второй элемент\n",
    "print(students[-2]) # предпоследний элемент"
   ]
  },
  {
   "cell_type": "code",
   "execution_count": 120,
   "id": "ec994900",
   "metadata": {},
   "outputs": [
    {
     "name": "stdout",
     "output_type": "stream",
     "text": [
      "с\n",
      "о\n"
     ]
    }
   ],
   "source": [
    "# Можем также вывести порядковый номер строки\n",
    "# Отрицательный индекс - считаем с конца\n",
    "x = 'слово'\n",
    "print(x[0])\n",
    "print(x[-1])"
   ]
  },
  {
   "cell_type": "code",
   "execution_count": 122,
   "id": "7eec45aa",
   "metadata": {},
   "outputs": [
    {
     "data": {
      "text/plain": [
       "['Margarita Burova', 'Tatiana Sidorova', 'Maria Smirnova']"
      ]
     },
     "execution_count": 122,
     "metadata": {},
     "output_type": "execute_result"
    }
   ],
   "source": [
    "# Строку нельзя изменять, список можно изменять\n",
    "students = ['Ivan Ivanov', 'Tatiana Sidorova', 'Maria Smirnova']\n",
    "students[0] = 'Margarita Burova' # Изменили элемент списка\n",
    "students"
   ]
  },
  {
   "cell_type": "code",
   "execution_count": 125,
   "id": "918a36f6",
   "metadata": {},
   "outputs": [
    {
     "ename": "TypeError",
     "evalue": "'str' object does not support item assignment",
     "output_type": "error",
     "traceback": [
      "\u001b[1;31m---------------------------------------------------------------------------\u001b[0m",
      "\u001b[1;31mTypeError\u001b[0m                                 Traceback (most recent call last)",
      "Cell \u001b[1;32mIn[125], line 2\u001b[0m\n\u001b[0;32m      1\u001b[0m string \u001b[38;5;241m=\u001b[39m \u001b[38;5;124m'\u001b[39m\u001b[38;5;124mololololol\u001b[39m\u001b[38;5;124m'\u001b[39m\n\u001b[1;32m----> 2\u001b[0m string[\u001b[38;5;241m1\u001b[39m] \u001b[38;5;241m=\u001b[39m \u001b[38;5;124m'\u001b[39m\u001b[38;5;124ma\u001b[39m\u001b[38;5;124m'\u001b[39m\n",
      "\u001b[1;31mTypeError\u001b[0m: 'str' object does not support item assignment"
     ]
    }
   ],
   "source": [
    "string = 'ololololol'\n",
    "string[1] = 'a' # Изменить элемент строки нельзя. Ошибка"
   ]
  },
  {
   "cell_type": "code",
   "execution_count": 169,
   "id": "2ad53edc",
   "metadata": {},
   "outputs": [
    {
     "name": "stdout",
     "output_type": "stream",
     "text": [
      "False\n",
      "True\n"
     ]
    }
   ],
   "source": [
    "# Проверка на наличие элемента IN / NOT IN\n",
    "# Работает и со списками и со строками (тут мы ничего не изменяем)\n",
    "n = [1,2,3,4]\n",
    "x = 333\n",
    "print(x in n) \n",
    "\n",
    "print('a' in 'ajfjsk')"
   ]
  },
  {
   "cell_type": "markdown",
   "id": "66f443af",
   "metadata": {},
   "source": [
    "### Методы списков"
   ]
  },
  {
   "cell_type": "code",
   "execution_count": 170,
   "id": "6c913fac",
   "metadata": {},
   "outputs": [
    {
     "name": "stdout",
     "output_type": "stream",
     "text": [
      "[1, 2, 3, 4, 5]\n"
     ]
    }
   ],
   "source": [
    "# .append() - добавляет элемент в конец\n",
    "n.append(5)\n",
    "print(n)"
   ]
  },
  {
   "cell_type": "code",
   "execution_count": 171,
   "id": "b07f7f1d",
   "metadata": {},
   "outputs": [
    {
     "name": "stdout",
     "output_type": "stream",
     "text": [
      "[1, 2, 3, 4, 5, 6]\n"
     ]
    }
   ],
   "source": [
    "# альтернативный способ (конкатенация)\n",
    "n +=[6]\n",
    "print(n)"
   ]
  },
  {
   "cell_type": "code",
   "execution_count": 172,
   "id": "17a17399",
   "metadata": {},
   "outputs": [
    {
     "name": "stdout",
     "output_type": "stream",
     "text": [
      "[2, 3, 4, 5, 6]\n"
     ]
    }
   ],
   "source": [
    "# .remove .pop удаление (полиморфизмы)\n",
    "\n",
    "# .remove удаляет только первое вхождение\n",
    "dele = n.remove(1)\n",
    "print(n)"
   ]
  },
  {
   "cell_type": "code",
   "execution_count": 174,
   "id": "d8fed31a",
   "metadata": {},
   "outputs": [
    {
     "name": "stdout",
     "output_type": "stream",
     "text": [
      "[4, 5, 6]\n"
     ]
    }
   ],
   "source": [
    "# pop удаляет заданный элемент по индексу\n",
    "\n",
    "n.pop(0)\n",
    "print(n)"
   ]
  },
  {
   "cell_type": "code",
   "execution_count": 183,
   "id": "0c6fd842",
   "metadata": {},
   "outputs": [
    {
     "name": "stdout",
     "output_type": "stream",
     "text": [
      "1\n",
      "[4, 5, 6, 5, 5, 5, 5, 5]\n"
     ]
    }
   ],
   "source": [
    "# Index - помогает определить порядковый номер\n",
    "n.append(5)\n",
    "print(n.index(5))\n",
    "print(n)"
   ]
  },
  {
   "cell_type": "code",
   "execution_count": 185,
   "id": "027fb505",
   "metadata": {},
   "outputs": [
    {
     "name": "stdout",
     "output_type": "stream",
     "text": [
      "6\n"
     ]
    }
   ],
   "source": [
    "# count - сколько раз повторяется выбранный объект\n",
    "print(n.count(5))"
   ]
  },
  {
   "cell_type": "code",
   "execution_count": 186,
   "id": "ea1e8a6e",
   "metadata": {},
   "outputs": [
    {
     "name": "stdout",
     "output_type": "stream",
     "text": [
      "[5, 5, 5, 5, 5, 6, 5, 4]\n"
     ]
    }
   ],
   "source": [
    "# reverse _ разворачивает список\n",
    "n.reverse()\n",
    "print(n)"
   ]
  },
  {
   "cell_type": "markdown",
   "id": "671f0d27",
   "metadata": {},
   "source": [
    "Все методы тут: https://docs.python.org/3/tutorial/datastructures.html"
   ]
  },
  {
   "cell_type": "markdown",
   "id": "590746eb",
   "metadata": {},
   "source": [
    "## Сортировки"
   ]
  },
  {
   "cell_type": "code",
   "execution_count": 191,
   "id": "e519a3f8",
   "metadata": {},
   "outputs": [
    {
     "name": "stdout",
     "output_type": "stream",
     "text": [
      "[4, 5, 5, 5, 5, 5, 5, 6]\n",
      "[4, 5, 5, 5, 5, 5, 5, 6]\n",
      "[6, 5, 5, 5, 5, 5, 5, 4]\n"
     ]
    }
   ],
   "source": [
    "# Изменение позиций элементов списка. По сути меняет список\n",
    "# Метод sort() работает ТОЛЬКО со списками\n",
    "print(n) # хаотичный порядок (как добавляли, удаляли и тд)\n",
    "n.sort()  # по умолчанию - по возрастанию\n",
    "print(n)\n",
    "n.sort(reverse=True)  # сделали сортировку по убыванию\n",
    "print(n)"
   ]
  },
  {
   "cell_type": "code",
   "execution_count": 193,
   "id": "5c5ca380",
   "metadata": {},
   "outputs": [
    {
     "name": "stdout",
     "output_type": "stream",
     "text": [
      "[4, 5, 5, 5, 5, 5, 5, 6]\n"
     ]
    }
   ],
   "source": [
    "# функция .sorted - универсальна, НЕ МЕНЯЕТ позицию элементов.\n",
    "# превращает все в список\n",
    "print(sorted(n))"
   ]
  },
  {
   "cell_type": "code",
   "execution_count": 207,
   "id": "cafd6fb5",
   "metadata": {},
   "outputs": [
    {
     "data": {
      "text/plain": [
       "'йогурт, булочка, томат'"
      ]
     },
     "execution_count": 207,
     "metadata": {},
     "output_type": "execute_result"
    }
   ],
   "source": [
    "# указание разделителя списку (хочу вывести список таким какой он есть)\n",
    "# join - объединяет. из списка делает строку\n",
    "', '.join( ['йогурт','булочка', 'томат'])\n"
   ]
  },
  {
   "cell_type": "code",
   "execution_count": 202,
   "id": "b3240d23",
   "metadata": {},
   "outputs": [
    {
     "name": "stdout",
     "output_type": "stream",
     "text": [
      "e-g-h-i-m-n-o-s-t\n"
     ]
    }
   ],
   "source": [
    "print('-'.join(sorted('something')))"
   ]
  },
  {
   "cell_type": "code",
   "execution_count": 227,
   "id": "9928589d",
   "metadata": {},
   "outputs": [
    {
     "name": "stdout",
     "output_type": "stream",
     "text": [
      "['A', 'string', 'With', 'upper', 'AND', 'lower', 'cases']\n",
      "['йогурт', 'булочка', 'томат']\n"
     ]
    }
   ],
   "source": [
    "# split - разделяет. из строки делает список.\n",
    "# по умолчанию разделяет по пробелу\n",
    "test_string = 'A string With upper AND lower cases'\n",
    "print(test_string.split())\n",
    "\n",
    "# прописать разделить в аргумента\n",
    "lst = 'йогурт, булочка, томат'\n",
    "print(lst.split(', '))"
   ]
  },
  {
   "cell_type": "markdown",
   "id": "5d7db4db",
   "metadata": {},
   "source": [
    "У функции sorted(), как и у метода list.sort() есть параметр key, с помощью которого можно указать функцию, которая будет применена к каждому элементу последовательности при сортировке."
   ]
  },
  {
   "cell_type": "code",
   "execution_count": 228,
   "id": "ab9d9b70",
   "metadata": {},
   "outputs": [
    {
     "name": "stdout",
     "output_type": "stream",
     "text": [
      "['A', 'AND', 'With', 'cases', 'lower', 'string', 'upper']\n",
      "['A', 'AND', 'cases', 'lower', 'string', 'upper', 'With']\n"
     ]
    }
   ],
   "source": [
    "# сортировка с ключом upper\n",
    "# по умолчанию сортирует сначала те, которые с учетом регистра, \n",
    "#а потом остальные\n",
    "print(sorted(test_string.split()))\n",
    "# а здесь не учитывает регистр, \n",
    "# потому что все приведено к верхнему регистру\n",
    "print(sorted(test_string.split(), key=str.upper))"
   ]
  },
  {
   "cell_type": "code",
   "execution_count": 230,
   "id": "e4b9bd20",
   "metadata": {},
   "outputs": [
    {
     "name": "stdout",
     "output_type": "stream",
     "text": [
      "[0, 19, -20, -5, 20]\n",
      "[0, -5, 19, -20, 20]\n"
     ]
    }
   ],
   "source": [
    "num = [0, 19, -20, -5, 20]\n",
    "print(num)\n",
    "# сортировка без учета знака (по абсолютному значению)\n",
    "print(sorted(num, key=abs))"
   ]
  },
  {
   "cell_type": "markdown",
   "id": "24d68e8e",
   "metadata": {},
   "source": [
    "## Кортежи (tuple)\n",
    "() неизменяемый список. В строгом порядке, элементы не изменяются"
   ]
  },
  {
   "cell_type": "code",
   "execution_count": 235,
   "id": "15ed226a",
   "metadata": {},
   "outputs": [
    {
     "name": "stdout",
     "output_type": "stream",
     "text": [
      "('Ivan Ivanov', 2001, 7.5, True)\n",
      "<class 'tuple'>\n"
     ]
    }
   ],
   "source": [
    "student = ('Ivan Ivanov', 2001, 7.5, True)\n",
    "print(student)\n",
    "print(type(student))"
   ]
  },
  {
   "cell_type": "code",
   "execution_count": 237,
   "id": "9cd85b8e",
   "metadata": {},
   "outputs": [
    {
     "name": "stdout",
     "output_type": "stream",
     "text": [
      "()\n",
      "()\n"
     ]
    }
   ],
   "source": [
    "print(())\n",
    "print(tuple())"
   ]
  },
  {
   "cell_type": "code",
   "execution_count": 241,
   "id": "3d47c9f8",
   "metadata": {},
   "outputs": [
    {
     "ename": "TypeError",
     "evalue": "'tuple' object does not support item assignment",
     "output_type": "error",
     "traceback": [
      "\u001b[1;31m---------------------------------------------------------------------------\u001b[0m",
      "\u001b[1;31mTypeError\u001b[0m                                 Traceback (most recent call last)",
      "Cell \u001b[1;32mIn[241], line 2\u001b[0m\n\u001b[0;32m      1\u001b[0m \u001b[38;5;66;03m# кортеж изменять нельзя\u001b[39;00m\n\u001b[1;32m----> 2\u001b[0m student[\u001b[38;5;241m1\u001b[39m]\u001b[38;5;241m=\u001b[39m\u001b[38;5;241m2002\u001b[39m\n",
      "\u001b[1;31mTypeError\u001b[0m: 'tuple' object does not support item assignment"
     ]
    }
   ],
   "source": [
    "# кортеж изменять нельзя\n",
    "student[1]=2002"
   ]
  },
  {
   "cell_type": "code",
   "execution_count": 247,
   "id": "8075daed",
   "metadata": {},
   "outputs": [
    {
     "name": "stdout",
     "output_type": "stream",
     "text": [
      "('Ivan Ivanov', 2001, [8, 7, 7, 9, 6], True)\n",
      "('Ivan Ivanov', 2001, [8, 19, 7, 9, 6, 55], True)\n"
     ]
    }
   ],
   "source": [
    "# если список вложен внутрь кортежа, то его можно изменить\n",
    "student = ('Ivan Ivanov', 2001, [8, 7, 7, 9, 6], True)\n",
    "print(student)\n",
    "student[2][1]=19\n",
    "student[2].append(55)\n",
    "print(student)"
   ]
  },
  {
   "cell_type": "code",
   "execution_count": 251,
   "id": "523837fc",
   "metadata": {},
   "outputs": [
    {
     "data": {
      "text/plain": [
       "'к'"
      ]
     },
     "execution_count": 251,
     "metadata": {},
     "output_type": "execute_result"
    }
   ],
   "source": [
    "# кортеж со строками\n",
    "('йогурт', 'булочка')[1][-2] # в 1 элементе (булочка), берем 2 букву с конца"
   ]
  },
  {
   "cell_type": "code",
   "execution_count": 254,
   "id": "72085c1d",
   "metadata": {},
   "outputs": [
    {
     "name": "stdout",
     "output_type": "stream",
     "text": [
      "[4, 2, 3]\n",
      "[4, 2, 3]\n"
     ]
    }
   ],
   "source": [
    "# если мы приравняли переменную к другой переменной и поменяли вторую переменную\n",
    "# Первая ТОЖЕ изменится. Потому что это ссылка\n",
    "a = [1,2,3]\n",
    "b=a\n",
    "b[0]=4\n",
    "print(a)\n",
    "print(b)"
   ]
  },
  {
   "cell_type": "code",
   "execution_count": 257,
   "id": "e43216c4",
   "metadata": {},
   "outputs": [
    {
     "name": "stdout",
     "output_type": "stream",
     "text": [
      "[1, 2, 3]\n",
      "[4, 2, 3]\n",
      "[1, 2, 3]\n",
      "[4, 2, 3]\n"
     ]
    }
   ],
   "source": [
    "# .copy() метод для копирования, а не для ссылки\n",
    "a = [1,2,3]\n",
    "b=a.copy()\n",
    "b[0]=4\n",
    "print(a)\n",
    "print(b)\n",
    "\n",
    "# тоже самое ПУСТОЙ СРЕЗ\n",
    "a = [1,2,3]\n",
    "b=a[:]\n",
    "b[0]=4\n",
    "print(a)\n",
    "print(b)"
   ]
  },
  {
   "cell_type": "code",
   "execution_count": 265,
   "id": "1b4f66f6",
   "metadata": {},
   "outputs": [
    {
     "name": "stdout",
     "output_type": "stream",
     "text": [
      "['b', 'c']\n",
      "['b', 'c', 'd']\n",
      "['a', 'b', 'c']\n"
     ]
    }
   ],
   "source": [
    "# пустой срез - можем задать начало и конец и он создает именно КОПИЮ\n",
    "a = ['a', 'b', 'c', 'd']\n",
    "b=a[1:3] # задали и начало и конец\n",
    "print(b)\n",
    "b=a[1:] # задали только начало\n",
    "print(b)\n",
    "b=a[:3] # задали только конец\n",
    "print(b)"
   ]
  },
  {
   "cell_type": "markdown",
   "id": "adba4013",
   "metadata": {},
   "source": [
    "## Конкатенация списков и кортежей"
   ]
  },
  {
   "cell_type": "code",
   "execution_count": 269,
   "id": "ffc70d24",
   "metadata": {},
   "outputs": [
    {
     "name": "stdout",
     "output_type": "stream",
     "text": [
      "[1, 2, 3, 4]\n",
      "(1, 2, 3, 4)\n",
      "[1, 2, 1, 2]\n"
     ]
    }
   ],
   "source": [
    "print([1, 2] + [3, 4])\n",
    "print((1, 2) + (3, 4))\n",
    "print([1,2] *2)"
   ]
  },
  {
   "cell_type": "code",
   "execution_count": 271,
   "id": "4de6cf45",
   "metadata": {},
   "outputs": [
    {
     "ename": "TypeError",
     "evalue": "can only concatenate tuple (not \"list\") to tuple",
     "output_type": "error",
     "traceback": [
      "\u001b[1;31m---------------------------------------------------------------------------\u001b[0m",
      "\u001b[1;31mTypeError\u001b[0m                                 Traceback (most recent call last)",
      "Cell \u001b[1;32mIn[271], line 1\u001b[0m\n\u001b[1;32m----> 1\u001b[0m \u001b[38;5;28mprint\u001b[39m((\u001b[38;5;241m1\u001b[39m, \u001b[38;5;241m2\u001b[39m) \u001b[38;5;241m+\u001b[39m [\u001b[38;5;241m3\u001b[39m, \u001b[38;5;241m4\u001b[39m])\n",
      "\u001b[1;31mTypeError\u001b[0m: can only concatenate tuple (not \"list\") to tuple"
     ]
    }
   ],
   "source": [
    "print((1, 2) + [3, 4]) # а список нельзя прибавить к кортежу"
   ]
  },
  {
   "cell_type": "code",
   "execution_count": 277,
   "id": "26e96543",
   "metadata": {},
   "outputs": [
    {
     "name": "stdout",
     "output_type": "stream",
     "text": [
      "[1, 2, 3, 4]\n",
      "(1, 2, 3, 4)\n"
     ]
    }
   ],
   "source": [
    "# но можно преобразовать на лету\n",
    "print(list((1, 2)) + [3, 4])\n",
    "print((1, 2) + tuple([3, 4]))"
   ]
  },
  {
   "cell_type": "code",
   "execution_count": 278,
   "id": "b1b2dc86",
   "metadata": {},
   "outputs": [
    {
     "name": "stdout",
     "output_type": "stream",
     "text": [
      "False\n"
     ]
    }
   ],
   "source": [
    "print({1, 2} == [1, 2]) "
   ]
  },
  {
   "cell_type": "markdown",
   "id": "001b34f1",
   "metadata": {},
   "source": [
    "## Методы \n",
    "* .split(), \n",
    "* .join(),  \n",
    "* функция map(), \n",
    "* вывод и ввод списков"
   ]
  },
  {
   "cell_type": "markdown",
   "id": "f0cbe9bc",
   "metadata": {},
   "source": [
    "### Метод .split()\n",
    "Метод строки .split() получает на вход строку-разделитель и возвращает список строк, разбитый по этому разделителю.\n",
    "по умолчанию разделитель - пробел"
   ]
  },
  {
   "cell_type": "code",
   "execution_count": 281,
   "id": "6c270878",
   "metadata": {},
   "outputs": [
    {
     "name": "stdout",
     "output_type": "stream",
     "text": [
      "['Hello', 'darkness', 'my', 'old', 'friend', '!#$@%$^#', 'bhfdsajklfgdsajk']\n"
     ]
    }
   ],
   "source": [
    "# все пробелы считает как 1 пробел\n",
    "print('Hello darkness my old friend     !#$@%$^#         bhfdsajklfgdsajk'.split())"
   ]
  },
  {
   "cell_type": "markdown",
   "id": "980a94c9",
   "metadata": {},
   "source": [
    "### Метод .join()\n",
    "объединяет (обратный от split)\n"
   ]
  },
  {
   "cell_type": "markdown",
   "id": "f266b890",
   "metadata": {},
   "source": [
    "## Функция map()\n",
    "Преобразование.\n",
    "\n",
    "Может применить к каждому элементу списку одну и ту же операцию/\n",
    "Обрабатывает все, у чего есть элементы\n",
    "\n",
    "имеет 2 аргумента: что мы делаем, с чем мы делаем\n",
    "\n",
    "Map создает свой собственный тип данных, нужно результат принудительно преобразовывать\n",
    "\n",
    "Быстрее, чем цикл не работает. потому что по сути тоже самое, что и цикл: каждый элемент обрабатывает отдельно\n"
   ]
  },
  {
   "cell_type": "code",
   "execution_count": 286,
   "id": "c2651fc1",
   "metadata": {},
   "outputs": [
    {
     "name": "stdout",
     "output_type": "stream",
     "text": [
      "<map object at 0x00000230A5751540>\n",
      "[1, 2, 3, 4]\n"
     ]
    }
   ],
   "source": [
    "print(map(int,['1','2','3','4']))\n",
    "print(list(map(int,['1','2','3','4'])))"
   ]
  },
  {
   "cell_type": "code",
   "execution_count": 291,
   "id": "0b930f8c",
   "metadata": {},
   "outputs": [
    {
     "data": {
      "text/plain": [
       "(False, False, False)"
      ]
     },
     "execution_count": 291,
     "metadata": {},
     "output_type": "execute_result"
    }
   ],
   "source": [
    "(bool(''),bool(None),bool(0))"
   ]
  },
  {
   "cell_type": "code",
   "execution_count": 313,
   "id": "8eefd127",
   "metadata": {},
   "outputs": [
    {
     "name": "stdout",
     "output_type": "stream",
     "text": [
      "1 2 3 4\n",
      "['1', '2', '3', '4']\n",
      "1 2 3 4\n",
      "[1, 2, 3, 4]\n"
     ]
    }
   ],
   "source": [
    "# введенный текст сразу разбивается в список (текстовый)\n",
    "a = input().split()\n",
    "print(a)\n",
    "# преобразовываем введенный текст в отдельные элементы с числами\n",
    "a = list(map(int,(input().split())))\n",
    "print(a)"
   ]
  },
  {
   "cell_type": "code",
   "execution_count": 309,
   "id": "ccb39797",
   "metadata": {},
   "outputs": [
    {
     "name": "stdout",
     "output_type": "stream",
     "text": [
      "1 2 3 4 5 6\n",
      "[1, 2, 3, 4, 5, 6]\n",
      "1-2-3-4-5-6\n"
     ]
    }
   ],
   "source": [
    "phone = list(map(int, input().split()))\n",
    "print(phone)\n",
    "# преобразование в единую строку - номер телефона\n",
    "print('-'.join(list(map(str, phone)))) # преобразуем массив чисел в массив строк и склеиваем через дефис"
   ]
  },
  {
   "cell_type": "code",
   "execution_count": 314,
   "id": "257adbdf",
   "metadata": {},
   "outputs": [
    {
     "name": "stdout",
     "output_type": "stream",
     "text": [
      "[1, 2, 3, 4, 5, 6]\n",
      "1-2-3-4-5-6\n",
      "1-2-3-4-5\n"
     ]
    }
   ],
   "source": [
    "# аналог join. После получения расплитованного списка чисел\n",
    "# через * в print получаем объединение элементов через -\n",
    "print(phone, sep='-') # не работает, получили список\n",
    "print(*phone, sep='-') # теперь сработало. По сути, распакованный список питон видит как в примере ниже\n",
    "print(phone[0], phone[1], phone[2], phone[3], phone[4], sep='-')"
   ]
  },
  {
   "cell_type": "markdown",
   "id": "5b5a0bca",
   "metadata": {},
   "source": [
    "## Строки: срезы и методы\n"
   ]
  },
  {
   "cell_type": "code",
   "execution_count": 317,
   "id": "e7840580",
   "metadata": {},
   "outputs": [
    {
     "name": "stdout",
     "output_type": "stream",
     "text": [
      "Добро пожаловать в \"Школу программирования\"\n",
      "Добро пожаловать в 'Школу программирования'\n"
     ]
    }
   ],
   "source": [
    "# чтобы кавычки отображались, нужно использовать разные\n",
    "s = 'Добро пожаловать в \"Школу программирования\"'\n",
    "print(s)\n",
    "s = \"Добро пожаловать в 'Школу программирования'\"\n",
    "print(s)"
   ]
  },
  {
   "cell_type": "code",
   "execution_count": 321,
   "id": "a383785b",
   "metadata": {},
   "outputs": [
    {
     "data": {
      "text/plain": [
       "7"
      ]
     },
     "execution_count": 321,
     "metadata": {},
     "output_type": "execute_result"
    }
   ],
   "source": [
    "f = 'так  и '\n",
    "len(f)"
   ]
  },
  {
   "cell_type": "code",
   "execution_count": 323,
   "id": "4d158361",
   "metadata": {},
   "outputs": [
    {
     "name": "stdout",
     "output_type": "stream",
     "text": [
      "т\n",
      "а\n",
      "и\n"
     ]
    }
   ],
   "source": [
    "# Строки это последовательность символов\n",
    "print(f[0])\n",
    "print(f[1])\n",
    "print(f[-2])"
   ]
  },
  {
   "cell_type": "code",
   "execution_count": 334,
   "id": "1e193ee7",
   "metadata": {},
   "outputs": [
    {
     "name": "stdout",
     "output_type": "stream",
     "text": [
      "(1, 2, 3, 4, 5, 6, 7, 8, 9, 10, 11, 12, 13, 14, 15)\n",
      "(0, 1, 2, 3)\n",
      "(0, 1, 2, 3, 4, 5, 6, 7, 8, 9, 10, 11, 12, 13, 14, 15)\n",
      "(0, 1, 2, 3, 4, 5, 6, 7, 8, 9, 10, 11, 12, 13, 14)\n",
      "(0, 2, 4, 6, 8, 10, 12, 14)\n",
      "(15, 14, 13, 12, 11, 10, 9, 8, 7, 6, 5, 4, 3, 2, 1, 0)\n",
      "(2, 4, 6, 8)\n",
      "(10, 12, 14)\n",
      "(10, 7, 4, 1)\n"
     ]
    }
   ],
   "source": [
    "# Срезы\n",
    "s = (0,1,2,3,4,5,6,7,8,9,10,11,12,13,14,15)\n",
    "\n",
    "print(s[1:]) # начиная с первого и до конца\n",
    "print(s[:4]) # 4 символа с конца\n",
    "print(s[:]) # копия строки (срез от первого до последнего символа)\n",
    "print(s[:-1]) # вся строка кроме последнего символа\n",
    "print(s[::2]) # также можно выбирать символы из строки с каким-то шагом\n",
    "print(s[::-1]) # например, с помощью шага -1 можно получить строку наоборот\n",
    "print(s[2:10:2]) # с 3 по 10 символ с шагом в 2\n",
    "print(s[10::2]) # с 10 до конца с шагом в 2\n",
    "print(s[10::-3]) # с 10 символа в обратном порядке через 3"
   ]
  },
  {
   "cell_type": "markdown",
   "id": "22380375",
   "metadata": {},
   "source": [
    "## Методы строк"
   ]
  },
  {
   "cell_type": "code",
   "execution_count": 336,
   "id": "08438269",
   "metadata": {},
   "outputs": [
    {
     "name": "stdout",
     "output_type": "stream",
     "text": [
      "True\n"
     ]
    }
   ],
   "source": [
    "# проверяем есть ли в строке какое то слово\n",
    "lyrics = '''The unlocked variant of the Galaxy Z Flip was quickly sold in stores as well \n",
    "            as on Samsung’s website in the US after the launch. The company had also claimed\n",
    "            that it was overwhelmed with the response it received from consumers for its second \n",
    "            foldable phone. Now, the South Korean smartphone giant says that the Galaxy Z Flip \n",
    "            will be back in stock in the US tomorrow.'''\n",
    "\n",
    "print('smartphone' in lyrics)"
   ]
  },
  {
   "cell_type": "code",
   "execution_count": 355,
   "id": "e051a207",
   "metadata": {},
   "outputs": [
    {
     "name": "stdout",
     "output_type": "stream",
     "text": [
      "ZZZ\n",
      "ZZZ\n",
      "zzz\n",
      "kggkgk\n",
      "rlrltl\n",
      "3\n"
     ]
    }
   ],
   "source": [
    "# как часто встречается слово (через цикл)\n",
    "\n",
    "mentions = 0 # переменная, в которой будем считать упоминания\n",
    "news_number = 1 # счетчик новостей, начинаем работать с первой\n",
    "\n",
    "while news_number <= 5:\n",
    "    news = input()\n",
    "    if 'zzz' in news.lower():\n",
    "        mentions += 1\n",
    "    news_number += 1\n",
    "    \n",
    "print(mentions)"
   ]
  },
  {
   "cell_type": "code",
   "execution_count": 364,
   "id": "baeea6b6",
   "metadata": {},
   "outputs": [
    {
     "name": "stdout",
     "output_type": "stream",
     "text": [
      "11\n",
      "24\n",
      "39 990\n"
     ]
    }
   ],
   "source": [
    "# Метод find()\n",
    "# возвращает индекс вхождения символа в строку\n",
    "# если ищем последовательность символа, то индекс покажет с с первой буквы слова\n",
    "\n",
    "info = 'iPad 64 GB ЦЕНА: 39 990 руб. Скидка: 5% ЦЕНА: 100'\n",
    "print(info.find('ЦЕНА:')) # нашли индекс Ц - начала подстроки \"ЦЕНА:\"\n",
    "print(info.find('руб.')) # нашли индекс р\n",
    "price = info[info.find('ЦЕНА:')+len('ЦЕНА:')+1:info.find('руб.')-1] # вывели срез от от начала до конца цены (с помощью\n",
    "                                               # слогаемых 6 и -1 откорретировали индексы до начала и конца цены)\n",
    "print(price)"
   ]
  },
  {
   "cell_type": "code",
   "execution_count": 367,
   "id": "5cc5d78c",
   "metadata": {},
   "outputs": [
    {
     "name": "stdout",
     "output_type": "stream",
     "text": [
      "-1\n"
     ]
    }
   ],
   "source": [
    "# метод find() если ничего не нашел выводит -1\n",
    "print(info.find('Акция:'))"
   ]
  },
  {
   "cell_type": "code",
   "execution_count": 372,
   "id": "e8f72fed",
   "metadata": {},
   "outputs": [
    {
     "name": "stdout",
     "output_type": "stream",
     "text": [
      "11\n"
     ]
    }
   ],
   "source": [
    "# метод find() если строка выводится несколько раз, выведет только первое вхождение\n",
    "print(info.find('ЦЕНА:'))"
   ]
  },
  {
   "cell_type": "code",
   "execution_count": 371,
   "id": "4494b6cd",
   "metadata": {},
   "outputs": [
    {
     "data": {
      "text/plain": [
       "40"
      ]
     },
     "execution_count": 371,
     "metadata": {},
     "output_type": "execute_result"
    }
   ],
   "source": [
    "# rfind - метод поиска с конца\n",
    "info.rfind(\"ЦЕНА\")"
   ]
  },
  {
   "cell_type": "code",
   "execution_count": 375,
   "id": "3cf6917f",
   "metadata": {},
   "outputs": [
    {
     "name": "stdout",
     "output_type": "stream",
     "text": [
      "31110\n",
      "31190\n",
      "39990\n"
     ]
    }
   ],
   "source": [
    "# replace - замена\n",
    "# что заменить, на что заменить, сколько раз заменить\n",
    "# так как строка неизменяемая, то он только показывает, не изменяет price\n",
    "price = price.replace(' ', '')\n",
    "int(price)\n",
    "print(price.replace('9', '1')) # заменяем на 1 все девятки\n",
    "print(price.replace('9', '1', 2)) # заменяет на 1 только первые две девятки\n",
    "print(price) # строка не изменилась"
   ]
  },
  {
   "cell_type": "code",
   "execution_count": 378,
   "id": "86ec6aaa",
   "metadata": {},
   "outputs": [
    {
     "name": "stdout",
     "output_type": "stream",
     "text": [
      "Хорошо\n",
      "Удовлетворительно\n",
      "Можно было и лучше\n",
      "И так сойдет\n",
      "Восхитительно!\n"
     ]
    }
   ],
   "source": [
    "# Задача\n",
    "'''\n",
    " у нас есть строка, в которой собраны данные ответа на вопрос\n",
    " о качестве оказанной услуги. \n",
    " Каждый ответ отделен точкой с запятой от следующего. \n",
    " Требуется напечатать каждый ответ на новой строке.\n",
    " '''\n",
    "s = 'Хорошо;Удовлетворительно;Можно было и лучше;И так сойдет;Восхитительно!'\n",
    "\n",
    "while len(s)>0:\n",
    "    idx=s.find(';')\n",
    "    if idx == -1: # если ; нет, то печатаем строку\n",
    "        print(s)\n",
    "        break\n",
    "    else:\n",
    "        print(s[:idx])\n",
    "        s = s[idx+1:]"
   ]
  },
  {
   "cell_type": "code",
   "execution_count": 379,
   "id": "186432f8",
   "metadata": {},
   "outputs": [],
   "source": [
    "# Методы startswith() и endswith() \n",
    "# Проверяют с какого символа начианется\\заканчивается строка"
   ]
  },
  {
   "cell_type": "code",
   "execution_count": 384,
   "id": "1394fe8f",
   "metadata": {},
   "outputs": [
    {
     "name": "stdout",
     "output_type": "stream",
     "text": [
      "True\n",
      "False\n"
     ]
    }
   ],
   "source": [
    "s = 'Хорошо;Удовлетворительно;Можно было и лучше;И так сойдет;Восхитительно!'\n",
    "print(s.startswith(\"Х\"))\n",
    "print(s.endswith(\"?\"))"
   ]
  },
  {
   "cell_type": "code",
   "execution_count": 389,
   "id": "f4aa2de6",
   "metadata": {},
   "outputs": [
    {
     "name": "stdout",
     "output_type": "stream",
     "text": [
      "Client was dissapointed\n"
     ]
    }
   ],
   "source": [
    "# Задача\n",
    "'''\n",
    "у нас есть отзыв посетителя о кафе.\n",
    "Мы заранее знаем, что пользователь для отзыва \n",
    "выбирает только последнее слово из предложенных двух: 'good', 'bad'. \n",
    "Попробуем оценить, остался ли доволен клиент.\n",
    "'''\n",
    "\n",
    "feedback1 = 'This place was bad'\n",
    "if feedback1.endswith('bad'):\n",
    "    print('Client was dissapointed')\n",
    "else:\n",
    "    print('Client was satisfied')"
   ]
  },
  {
   "cell_type": "code",
   "execution_count": 392,
   "id": "754c55a5",
   "metadata": {},
   "outputs": [
    {
     "name": "stdout",
     "output_type": "stream",
     "text": [
      "Client was dissapointed\n"
     ]
    }
   ],
   "source": [
    "if feedback1.find('bad') != -1:\n",
    "    print('Client was dissapointed')\n",
    "else:\n",
    "    print('Client was satisfied')"
   ]
  },
  {
   "cell_type": "code",
   "execution_count": 395,
   "id": "9b2d4af1",
   "metadata": {},
   "outputs": [
    {
     "name": "stdout",
     "output_type": "stream",
     "text": [
      "135133\n",
      "hse.\n",
      "hse.ru\n",
      "ruhse.\n"
     ]
    }
   ],
   "source": [
    "# Метод strip() rstrip() lsprip\n",
    "# strip() - по умолчанию удаляет пробелы и слева и справа. Либо задаем символ\n",
    "# rstrip() - удаляет то что задано справа\n",
    "# lstrip() - удаляет то что задано слева\n",
    "\n",
    "print(' 135133   '.strip()) # удалили пробельные символы слева и справа\n",
    "print('ruhse.ru'.strip('ru')) # удалили ru с обеих сторон\n",
    "print('ruhse.ru'.lstrip('ru')) # удалили ru слева\n",
    "print('ruhse.ru'.rstrip('ru')) # удалили ru справа"
   ]
  },
  {
   "cell_type": "code",
   "execution_count": 399,
   "id": "ee280f23",
   "metadata": {},
   "outputs": [
    {
     "name": "stdout",
     "output_type": "stream",
     "text": [
      "привет\n",
      "п....!!р\n"
     ]
    }
   ],
   "source": [
    "# удаляет все, что есть в перечислении. символы или комбинации символов\n",
    "print('.,привет....!,..'.strip('.,!'))\n",
    "# когда доходит до препятствия (и слева и справа) оставляет внутри эти символы\n",
    "print('.,п....!!р,..'.strip('.,!') )"
   ]
  }
 ],
 "metadata": {
  "kernelspec": {
   "display_name": "Python 3 (ipykernel)",
   "language": "python",
   "name": "python3"
  },
  "language_info": {
   "codemirror_mode": {
    "name": "ipython",
    "version": 3
   },
   "file_extension": ".py",
   "mimetype": "text/x-python",
   "name": "python",
   "nbconvert_exporter": "python",
   "pygments_lexer": "ipython3",
   "version": "3.11.4"
  }
 },
 "nbformat": 4,
 "nbformat_minor": 5
}
